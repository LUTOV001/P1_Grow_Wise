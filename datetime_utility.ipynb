{
 "cells": [
  {
   "cell_type": "code",
   "execution_count": 8,
   "id": "426e900e-33fe-4fec-b0ed-356c6ebc88c5",
   "metadata": {},
   "outputs": [],
   "source": [
    "# this utility pulls the current date/time and any previous date/time"
   ]
  },
  {
   "cell_type": "code",
   "execution_count": 1,
   "id": "627798cc-8fec-4134-96da-642026e2f592",
   "metadata": {},
   "outputs": [],
   "source": [
    "import datetime"
   ]
  },
  {
   "cell_type": "code",
   "execution_count": 23,
   "id": "bb208d71-f718-4e73-9dbd-b73461fd9b6c",
   "metadata": {},
   "outputs": [
    {
     "name": "stdout",
     "output_type": "stream",
     "text": [
      "The attributes of now() are : \n",
      "Year: 2023\n",
      "Month: 5\n",
      "Day: 9\n",
      "2023-05-09 00:01:37.571627\n"
     ]
    }
   ],
   "source": [
    "# using now() to get current time\n",
    "current_datetime = datetime.datetime.now()\n",
    "\t\n",
    "# Printing attributes of now().\n",
    "print (\"The attributes of now() are : \")\n",
    "\t\n",
    "print (\"Year: \", end = \"\")\n",
    "print (current_datetime.year)\n",
    "\t\n",
    "print (\"Month: \", end = \"\")\n",
    "print (current_datetime.month)\n",
    "\t\n",
    "print (\"Day: \", end = \"\")\n",
    "print (current_datetime.day)\n",
    "\n",
    "# Prints the value of current_time\n",
    "print(current_datetime)\n"
   ]
  },
  {
   "cell_type": "code",
   "execution_count": 29,
   "id": "49d3ab60-f35b-46b1-b0cd-954df3dcae03",
   "metadata": {},
   "outputs": [
    {
     "name": "stdout",
     "output_type": "stream",
     "text": [
      "365 days, 0:00:00\n"
     ]
    }
   ],
   "source": [
    "# WIP \n",
    "# take user input to pull previous dates based on a difference of days (does not account for leap years)\n",
    "years = 1 # will be user input\n",
    "days_in_year = 365\n",
    "days = 0 # will be user input\n",
    "\n",
    "days_to_go_back_by = datetime.timedelta(days=years*days_in_year+days)\n",
    "print(days_to_go_back_by)"
   ]
  },
  {
   "cell_type": "code",
   "execution_count": 30,
   "id": "cc84d66f-9763-4e42-bac6-0d41fd0c4d80",
   "metadata": {},
   "outputs": [
    {
     "name": "stdout",
     "output_type": "stream",
     "text": [
      "2022-05-09 00:01:37.571627\n"
     ]
    }
   ],
   "source": [
    "previous_datetime_from_today = current_datetime - days_to_go_back_by\n",
    "\n",
    "\n",
    "print(previous_datetime_from_today)"
   ]
  },
  {
   "cell_type": "code",
   "execution_count": 36,
   "id": "97ad3bc7-92ab-478b-a401-c7b70685288b",
   "metadata": {},
   "outputs": [],
   "source": [
    "# # prints the differnce in case user wants to know exactly how much time has past\n",
    "# delta = current_time - previous_datetime_from_today\n",
    "# print(f'this is a difference of {delta}')"
   ]
  },
  {
   "cell_type": "code",
   "execution_count": null,
   "id": "75f0d7c0-e6e5-4676-bac6-77a8dbd2ae63",
   "metadata": {},
   "outputs": [],
   "source": []
  }
 ],
 "metadata": {
  "kernelspec": {
   "display_name": "dev",
   "language": "python",
   "name": "dev"
  },
  "language_info": {
   "codemirror_mode": {
    "name": "ipython",
    "version": 3
   },
   "file_extension": ".py",
   "mimetype": "text/x-python",
   "name": "python",
   "nbconvert_exporter": "python",
   "pygments_lexer": "ipython3",
   "version": "3.7.13"
  }
 },
 "nbformat": 4,
 "nbformat_minor": 5
}
