{
 "cells": [
  {
   "cell_type": "code",
   "execution_count": 8,
   "id": "426e900e-33fe-4fec-b0ed-356c6ebc88c5",
   "metadata": {},
   "outputs": [],
   "source": [
    "# this utility pulls the current date/time and any previous date/time"
   ]
  },
  {
   "cell_type": "code",
   "execution_count": 56,
   "id": "75f0d7c0-e6e5-4676-bac6-77a8dbd2ae63",
   "metadata": {},
   "outputs": [
    {
     "name": "stdout",
     "output_type": "stream",
     "text": [
      "2020-05-09 00:24:08.133256\n"
     ]
    }
   ],
   "source": [
    "## NOTES ##\n",
    "# code inspired by https://stackoverflow.com/questions/5158160/python-get-datetime-for-3-years-ago-today\n",
    "\n",
    "# import necessary libraries\n",
    "from datetime import datetime\n",
    "from dateutil.relativedelta import relativedelta\n",
    "\n",
    "## USER SET VARIABLES ##\n",
    "# all variables should be set by user input\n",
    "# user input should default to 0\n",
    "user_years = 3 # 3 is left as an example\n",
    "user_months = 0\n",
    "user_days = 0\n",
    "user_hours = 0\n",
    "user_minutes = 0 \n",
    "user_seconds = 0\n",
    "\n",
    "# calculates the previous datetime up to a second\n",
    "previous_date_from_today = datetime.now() - relativedelta(years=user_years, months=user_months, days=user_days, hours=user_hours, minutes=user_minutes, seconds=user_seconds) \n",
    "print(previous_date_from_today)"
   ]
  }
 ],
 "metadata": {
  "kernelspec": {
   "display_name": "dev",
   "language": "python",
   "name": "dev"
  },
  "language_info": {
   "codemirror_mode": {
    "name": "ipython",
    "version": 3
   },
   "file_extension": ".py",
   "mimetype": "text/x-python",
   "name": "python",
   "nbconvert_exporter": "python",
   "pygments_lexer": "ipython3",
   "version": "3.7.13"
  }
 },
 "nbformat": 4,
 "nbformat_minor": 5
}
